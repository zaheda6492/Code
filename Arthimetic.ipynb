{
  "nbformat": 4,
  "nbformat_minor": 0,
  "metadata": {
    "colab": {
      "provenance": [],
      "authorship_tag": "ABX9TyNEuzL/KvLub+w02v/dNCp6",
      "include_colab_link": true
    },
    "kernelspec": {
      "name": "python3",
      "display_name": "Python 3"
    },
    "language_info": {
      "name": "python"
    }
  },
  "cells": [
    {
      "cell_type": "markdown",
      "metadata": {
        "id": "view-in-github",
        "colab_type": "text"
      },
      "source": [
        "<a href=\"https://colab.research.google.com/github/zaheda6492/Code/blob/main/Arthimetic.ipynb\" target=\"_parent\"><img src=\"https://colab.research.google.com/assets/colab-badge.svg\" alt=\"Open In Colab\"/></a>"
      ]
    },
    {
      "cell_type": "code",
      "execution_count": null,
      "metadata": {
        "colab": {
          "base_uri": "https://localhost:8080/"
        },
        "id": "vEa5jr2nMrL4",
        "outputId": "d5f78703-1558-409a-c719-de40cf61bdc8"
      },
      "outputs": [
        {
          "output_type": "stream",
          "name": "stdout",
          "text": [
            "9\n"
          ]
        }
      ],
      "source": [
        "a=2\n",
        "b=3\n",
        "c=4\n",
        "d=a+b+c\n",
        "print(d)\n"
      ]
    },
    {
      "cell_type": "code",
      "source": [
        "number1=float(input(\"enter number1:\"))\n",
        "number2=float(input(\"enter number2:\"))\n",
        "sum=number1+number2\n",
        "print(\"sum:\",number1,number2,sum)"
      ],
      "metadata": {
        "colab": {
          "base_uri": "https://localhost:8080/"
        },
        "id": "KIwm9NIPP_CM",
        "outputId": "78f69ede-7519-41ea-86c7-46cc0a9769d0"
      },
      "execution_count": null,
      "outputs": [
        {
          "output_type": "stream",
          "name": "stdout",
          "text": [
            "enter number1:10\n",
            "enter number2:15\n",
            "sum: 10.0 15.0 25.0\n"
          ]
        }
      ]
    },
    {
      "cell_type": "code",
      "source": [],
      "metadata": {
        "id": "JpF_Ln50T-ew"
      },
      "execution_count": null,
      "outputs": []
    },
    {
      "cell_type": "code",
      "source": [
        "a=float(input(\"enter value of a :\",))\n",
        "b=float(input(\"enter value of b :\",))\n",
        "sum = a + b\n",
        "print(\"addition of two numbers: \",sum)\n",
        "\n"
      ],
      "metadata": {
        "colab": {
          "base_uri": "https://localhost:8080/"
        },
        "id": "_BcoE0U7SI8W",
        "outputId": "5b2b7c1a-34c0-481f-f342-ce149682d604"
      },
      "execution_count": null,
      "outputs": [
        {
          "output_type": "stream",
          "name": "stdout",
          "text": [
            "enter value of a :3\n",
            "enter value of b :4\n",
            "addition of two numbers:  7.0\n"
          ]
        }
      ]
    },
    {
      "cell_type": "code",
      "source": [
        "a=7\n",
        "b=5\n",
        "c=a*b\n",
        "print(\"multiplication of two numbers:\",c)\n"
      ],
      "metadata": {
        "colab": {
          "base_uri": "https://localhost:8080/"
        },
        "id": "fvwpV9KbZcrn",
        "outputId": "b95cf545-558d-4742-cc65-3116c14f9669"
      },
      "execution_count": null,
      "outputs": [
        {
          "output_type": "stream",
          "name": "stdout",
          "text": [
            "multiplication of two numbers: 35\n"
          ]
        }
      ]
    },
    {
      "cell_type": "code",
      "source": [
        "a=15\n",
        "b=9\n",
        "c=a-b\n",
        "print(\"subtract two numbers\",c)\n",
        "\n"
      ],
      "metadata": {
        "colab": {
          "base_uri": "https://localhost:8080/"
        },
        "id": "Krpdf_UdaKuX",
        "outputId": "875fd45c-8afa-40cd-d853-ef2f90c966e3"
      },
      "execution_count": null,
      "outputs": [
        {
          "output_type": "stream",
          "name": "stdout",
          "text": [
            "subtract two numbers 6\n"
          ]
        }
      ]
    },
    {
      "cell_type": "code",
      "source": [
        "km=5\n",
        "m=km*1000\n",
        "print(m)"
      ],
      "metadata": {
        "colab": {
          "base_uri": "https://localhost:8080/"
        },
        "id": "E6KagtIWc09T",
        "outputId": "4715e43c-2e2d-4d51-bcb3-ffc7659c0747"
      },
      "execution_count": null,
      "outputs": [
        {
          "output_type": "stream",
          "name": "stdout",
          "text": [
            "5000\n"
          ]
        }
      ]
    },
    {
      "cell_type": "code",
      "source": [],
      "metadata": {
        "id": "C1ZKTfV7inTC"
      },
      "execution_count": null,
      "outputs": []
    },
    {
      "cell_type": "code",
      "source": [
        "a=6\n",
        "b=3\n",
        "c=a/b\n",
        "print(\"divide two numbers\",c)"
      ],
      "metadata": {
        "colab": {
          "base_uri": "https://localhost:8080/"
        },
        "id": "J8-JH4Dkabmc",
        "outputId": "a7ee265c-3d76-48e4-eeea-be7cf8fd73e9"
      },
      "execution_count": null,
      "outputs": [
        {
          "output_type": "stream",
          "name": "stdout",
          "text": [
            "divide two numbers 2.0\n"
          ]
        }
      ]
    }
  ]
}